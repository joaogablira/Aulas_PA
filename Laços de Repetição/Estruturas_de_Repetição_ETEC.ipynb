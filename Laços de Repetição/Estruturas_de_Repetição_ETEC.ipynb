{
  "nbformat": 4,
  "nbformat_minor": 0,
  "metadata": {
    "colab": {
      "provenance": [],
      "authorship_tag": "ABX9TyOz6fXJ1oXf4TjdMFqZ8v11",
      "include_colab_link": true
    },
    "kernelspec": {
      "name": "python3",
      "display_name": "Python 3"
    },
    "language_info": {
      "name": "python"
    }
  },
  "cells": [
    {
      "cell_type": "markdown",
      "metadata": {
        "id": "view-in-github",
        "colab_type": "text"
      },
      "source": [
        "<a href=\"https://colab.research.google.com/github/joaogablira/Aulas_PA/blob/main/Estruturas_de_Repeti%C3%A7%C3%A3o_ETEC.ipynb\" target=\"_parent\"><img src=\"https://colab.research.google.com/assets/colab-badge.svg\" alt=\"Open In Colab\"/></a>"
      ]
    },
    {
      "cell_type": "code",
      "execution_count": null,
      "metadata": {
        "id": "8_t19IU3YwRJ"
      },
      "outputs": [],
      "source": [
        "# IMPRIMIR NA TELA  A FRASE \"BOM DIA\" 10 VEZES\n",
        "\n",
        "print(\"BOM DIA!\")\n",
        "print(\"BOM DIA!\")\n",
        "print(\"BOM DIA!\")\n",
        "print(\"BOM DIA!\")\n",
        "print(\"BOM DIA!\")\n",
        "print(\"BOM DIA!\")\n",
        "print(\"BOM DIA!\")\n",
        "print(\"BOM DIA!\")\n",
        "print(\"BOM DIA!\")"
      ]
    },
    {
      "cell_type": "code",
      "source": [
        "# LAÇO DE REPETIÇÃO FOR\n",
        "for i in range(1,11):\n",
        "  #print(i)\n",
        "  print(i,\" - BOM DIA!\")"
      ],
      "metadata": {
        "id": "zb6bwApwZuOD"
      },
      "execution_count": null,
      "outputs": []
    },
    {
      "cell_type": "code",
      "source": [
        "# MOSTRAR TODOS OS NÚMEROS ÍMPARES DE 1 A 30\n",
        "for i in range(1,31):\n",
        "  if i%2 == 1:\n",
        "    print(i)"
      ],
      "metadata": {
        "id": "rKzqTtQ1bgUy"
      },
      "execution_count": null,
      "outputs": []
    },
    {
      "cell_type": "code",
      "source": [
        "# CONTADOR DE UM NÚMERO INICIAL E UM NÚMERO FINAL\n",
        "# DIGITADOS PELO USUÁRIO\n",
        "\n",
        "inicio = int(input(\"Digite o 1°número: \"))\n",
        "fim = int(input(\"Digite o 2° número: \"))\n",
        "\n",
        "if inicio>fim:\n",
        "  #aux = inicio\n",
        "  #inicio = fim\n",
        "  #fim = aux\n",
        "  inicio, fim = fim, inicio\n",
        "  for i in range(inicio,fim+1):\n",
        "    print(i)"
      ],
      "metadata": {
        "id": "MURABFq0fagL"
      },
      "execution_count": null,
      "outputs": []
    },
    {
      "cell_type": "code",
      "source": [
        "# SOME TODOS OS NÚMEROS DE 1 A 10\n",
        "\n",
        "soma = 0\n",
        "\n",
        "for a in range(1,11):\n",
        "  soma = soma + a\n",
        "  print('Acumulado =>',soma)\n",
        "\n",
        "print('Total => ', soma)"
      ],
      "metadata": {
        "id": "hiiQbRkujvW8"
      },
      "execution_count": null,
      "outputs": []
    },
    {
      "cell_type": "code",
      "source": [
        "# SOME TODOS OS NÚMEROS ÍMPARES DE 1 A 100\n",
        "soma = 0\n",
        "for i in range(1,100):\n",
        "  if i%2 == 1:\n",
        "    soma = soma + i\n",
        "\n",
        "print('Total => ', soma)\n"
      ],
      "metadata": {
        "id": "B9mjipOtlNkk"
      },
      "execution_count": null,
      "outputs": []
    },
    {
      "cell_type": "code",
      "source": [
        "# CONTADOR DE 1 A 10 COM WHILE\n",
        "\n",
        "num = 1\n",
        "while num<=10:\n",
        "  print(num)\n",
        "  #num = num + 1\n",
        "  num += 1"
      ],
      "metadata": {
        "id": "38mnkzsOoBJX"
      },
      "execution_count": null,
      "outputs": []
    },
    {
      "cell_type": "code",
      "source": [
        "# DIGITE NÚMEROS ATÉ QUE O ÚSUARIO DIGITE 0\n",
        "\n",
        "numero = int(input(\"Digite um número: \"))\n",
        "while numero != 0:\n",
        "  numero = int(input(\"Digite um número: \"))\n"
      ],
      "metadata": {
        "id": "8cy7i3v7pplO"
      },
      "execution_count": null,
      "outputs": []
    },
    {
      "cell_type": "code",
      "source": [
        "# SOMAR NÚMEROS ATÉ QUE O ÚSUARIO DIGITE 0\n",
        "\n",
        "numero = int(input(\"Digite um número: \"))\n",
        "soma = numero\n",
        "while numero != 0:\n",
        "    numero = int(input(\"Digite um número: \"))\n",
        "    soma += numero\n",
        "print(\"Total =\",soma)"
      ],
      "metadata": {
        "id": "eGzfGCU5xXHD"
      },
      "execution_count": null,
      "outputs": []
    },
    {
      "cell_type": "code",
      "source": [
        "# CRIANDO UM MENU DE OPÇÕES\n",
        "opcao = 0\n",
        "while opcao !=  4:\n",
        "  print(\"ESCOLHA UMA OPÇÃO\")\n",
        "  print(\"Digite 1 para OPÇÃO 01\")\n",
        "  print(\"DIgite 2 para OPÇÃO 02\")\n",
        "  print(\"Digite 3 para OPÇÃO 03\")\n",
        "  print(\"Digite 4 para SAIR\")\n",
        "  opcao = int(input(\"Sua opção => \"))\n",
        "\n",
        "if opcao == 1:\n",
        "  print(\"Você escolheu a opção 01\")\n",
        "if opcao == 2:\n",
        "  print(\"Você escolheu a opção 01\")\n",
        "if opcao == 3:\n",
        "  print(\"Você escolheu a opção 01\")"
      ],
      "metadata": {
        "id": "plXdO_13y5aa"
      },
      "execution_count": null,
      "outputs": []
    }
  ]
}