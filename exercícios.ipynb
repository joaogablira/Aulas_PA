{
  "nbformat": 4,
  "nbformat_minor": 0,
  "metadata": {
    "colab": {
      "provenance": [],
      "authorship_tag": "ABX9TyP+uQn6vYrtbwJS5JakTnkT",
      "include_colab_link": true
    },
    "kernelspec": {
      "name": "python3",
      "display_name": "Python 3"
    },
    "language_info": {
      "name": "python"
    }
  },
  "cells": [
    {
      "cell_type": "markdown",
      "metadata": {
        "id": "view-in-github",
        "colab_type": "text"
      },
      "source": [
        "<a href=\"https://colab.research.google.com/github/joaogablira/Aulas_PA/blob/main/exerc%C3%ADcios.ipynb\" target=\"_parent\"><img src=\"https://colab.research.google.com/assets/colab-badge.svg\" alt=\"Open In Colab\"/></a>"
      ]
    },
    {
      "cell_type": "code",
      "execution_count": null,
      "metadata": {
        "id": "pHzHZKpS6KQ3"
      },
      "outputs": [],
      "source": []
    },
    {
      "cell_type": "markdown",
      "source": [
        "## **Exercício 1**"
      ],
      "metadata": {
        "id": "6hNVUayHR7KG"
      }
    },
    {
      "cell_type": "code",
      "source": [
        "v= float(input(\"Digite o Valor a Peça: \"))\n",
        "qtd= float(input(\"Digite a Quantidade de Peças:\"))\n",
        "vt= v * qtd\n",
        "\n",
        "print(\"O Valor total é: \",vt)"
      ],
      "metadata": {
        "colab": {
          "base_uri": "https://localhost:8080/"
        },
        "id": "PUJhKEirSF7n",
        "outputId": "d0f6a79b-fc17-42b3-f7a0-085ef622b422"
      },
      "execution_count": null,
      "outputs": [
        {
          "output_type": "stream",
          "name": "stdout",
          "text": [
            "Digite o Valor da Peça: 7\n",
            "Digite a Quantidade de Peças:5\n",
            "O Valor total é:  35.0\n"
          ]
        }
      ]
    },
    {
      "cell_type": "markdown",
      "source": [
        "# **Exercício 2**\n",
        "calcule o estoque médio de uma peça"
      ],
      "metadata": {
        "id": "eUfM8UoBWQH9"
      }
    },
    {
      "cell_type": "code",
      "source": [
        "qtdmin= float(input(\"Digite a quantidade mínima de peças: \"))\n",
        "qtdmax= float(input(\"Digite a quantidade máxima de peças: \"))\n",
        "media= (qtdmin + qtdmax) / 2\n",
        "\n",
        "print(\"O estoque médio de peça é: \",media)"
      ],
      "metadata": {
        "id": "lhxFkrJhWJii"
      },
      "execution_count": null,
      "outputs": []
    },
    {
      "cell_type": "markdown",
      "source": [
        "# **Desenvolvendo Algoritmos - Exercício 1**"
      ],
      "metadata": {
        "id": "HLd7WEK-YkMI"
      }
    },
    {
      "cell_type": "code",
      "source": [
        "dolar = 5\n",
        "real= float(input(\"Digite o Valor para ser convertido em Dólar: \"))\n",
        "converter = real / dolar\n",
        "\n",
        "print(\"O valor convertido em moeda é: \",converter)"
      ],
      "metadata": {
        "colab": {
          "base_uri": "https://localhost:8080/"
        },
        "id": "DGr2vCylYyXM",
        "outputId": "ffb7a927-19d8-4b70-8e30-5e1d83f5bf17"
      },
      "execution_count": null,
      "outputs": [
        {
          "output_type": "stream",
          "name": "stdout",
          "text": [
            "Digite o Valor para ser convertido em Dólar: 100\n",
            "O valor convertido em moeda é:  20.0\n"
          ]
        }
      ]
    },
    {
      "cell_type": "markdown",
      "source": [
        "# **Desenvolvendo Algoritmos - Exercício 2**"
      ],
      "metadata": {
        "id": "t7AVgEfkc4fd"
      }
    },
    {
      "cell_type": "code",
      "source": [
        "n1 = float(input(\"Digite o valor do 1° número: \"))\n",
        "n2 = float(input(\"Digite o valor do 2° número: \"))\n",
        "n3 = float(input(\"Digite o valor do 3° número: \"))\n",
        "n4 = float(input(\"Digite o valor do 4° número: \"))\n",
        "total = (n1 * n1) + (n2 * n2) + (n3 * n3) + (n4 * n4)\n",
        "print(\"A Soma Total desses quatro números é: \",total)"
      ],
      "metadata": {
        "id": "6ynn3EfgdRCJ"
      },
      "execution_count": null,
      "outputs": []
    },
    {
      "cell_type": "markdown",
      "source": [
        "# **Desenvolvendo Algoritmos - Exercício 3**\n"
      ],
      "metadata": {
        "id": "_FqPxAb9e7va"
      }
    },
    {
      "cell_type": "code",
      "source": [
        "peca = float(input(\"Digite o valor unitário da peça: \"))\n",
        "valorp = float(input(\"Digite o valor vendido de peças: \"))\n",
        "qtdv = peca * valorp\n",
        "cms = 5% qtdv\n",
        "print(\"R$\",qtdv,\"de venda e R$\",cms,\"de comissão\")"
      ],
      "metadata": {
        "id": "htun3WVce_A4",
        "colab": {
          "base_uri": "https://localhost:8080/"
        },
        "outputId": "dbe06e2c-a82b-4749-c3a1-aef2479766cc"
      },
      "execution_count": null,
      "outputs": [
        {
          "output_type": "stream",
          "name": "stdout",
          "text": [
            "Digite o valor unitário da peça: 2.5\n",
            "Digite o valor vendido de peças: 200\n",
            "R$ 500.0 de venda e R$ 5.0 de comissão\n"
          ]
        }
      ]
    },
    {
      "cell_type": "markdown",
      "source": [
        "# **Desenvolvendo Algoritmos - Exercício 4**\n"
      ],
      "metadata": {
        "id": "F20yrq3JX-8V"
      }
    },
    {
      "cell_type": "code",
      "source": [
        "fab = float(input(\"Qual o valor de fabrica do veiculo? \"))\n",
        "imp = (f * 0.45) + fab\n",
        "dist = (imposto * 0.28) + imp\n",
        "print(\"O seu valor de consumidor é de: R$\"dist)"
      ],
      "metadata": {
        "id": "7GP5thD2ZSXa"
      },
      "execution_count": null,
      "outputs": []
    },
    {
      "cell_type": "markdown",
      "source": [
        "# **Desenvolvendo Algoritmos - Exercício 5**\n"
      ],
      "metadata": {
        "id": "aAKid6k8YrLR"
      }
    },
    {
      "cell_type": "code",
      "source": [
        "h = float(input(\"Digite o valor das horas: \"))\n",
        "min = float(input(\"Digite o valor de minutos: \"))\n",
        "h2 = min/60 + h\n",
        "print(\"\",h2)\n"
      ],
      "metadata": {
        "colab": {
          "base_uri": "https://localhost:8080/"
        },
        "id": "MMB9XuqZYuDq",
        "outputId": "3f7191d9-3d44-40d2-c65c-aa155244f6ed"
      },
      "execution_count": null,
      "outputs": [
        {
          "output_type": "stream",
          "name": "stdout",
          "text": [
            "Digite o Valor das Horas: 1\n",
            "Digite o Valor de Minutos: 32\n",
            "1.5333333333333332\n"
          ]
        }
      ]
    },
    {
      "cell_type": "markdown",
      "source": [
        "# **Desenvolvendo Algoritmos - Exercício 6**\n"
      ],
      "metadata": {
        "id": "y6vDis0sYu0F"
      }
    },
    {
      "cell_type": "code",
      "source": [
        "h = float(input(\"Digite o valor das horas trabalhadas: \"))\n",
        "min = float(input(\"Digite o valor de minutos trabalhados: \"))\n",
        "ht = float(input(\"Digite o valor que você ganha por hora: \"))\n",
        "h2 = min/60 + h\n",
        "total =  (h2 * ht) * 1.70\n",
        "print(\"O seu salário é de: R$\",total)"
      ],
      "metadata": {
        "colab": {
          "base_uri": "https://localhost:8080/"
        },
        "id": "2dFVp-utYweq",
        "outputId": "5992ad73-4999-427c-f0eb-dff8f2870942"
      },
      "execution_count": null,
      "outputs": [
        {
          "output_type": "stream",
          "name": "stdout",
          "text": [
            "Digite o valor das horas trabalhadas: 15\n",
            "Digite o valor de minutos trabalhados: 45\n",
            "Digite o valor que você ganha por hora: 25\n",
            "O seu salário é de:  669.375\n"
          ]
        }
      ]
    },
    {
      "cell_type": "markdown",
      "source": [
        "# **Desenvolvendo Algoritmos - Exercício 7**\n"
      ],
      "metadata": {
        "id": "m84ZAvktYx4E"
      }
    },
    {
      "cell_type": "code",
      "source": [
        "km = int(input(\"Digite quantos quilômetros você irá percorrer: \"))\n",
        "gas = int(input(\"Digite o valor de gasolina que o carro consome por km: \"))\n",
        "pmgas = int(input(\"Digite o preço da gasolina: \"))\n",
        "ida = (km / gas) * pmgas\n",
        "volta = ida * 2\n",
        "print(\"Em média você gastará na ida R$\",ida,\"e na volta R$\",volta,)"
      ],
      "metadata": {
        "colab": {
          "base_uri": "https://localhost:8080/"
        },
        "id": "UItdGXu4Y0DN",
        "outputId": "e086d224-0b94-4107-e4d8-765ca7e58ad2"
      },
      "execution_count": null,
      "outputs": [
        {
          "output_type": "stream",
          "name": "stdout",
          "text": [
            "Digite quantos quilômetros você irá percorrer: 450\n",
            "Digite o valor de gasolina que o carro consome: 10\n",
            "Digite o preço da gasolina: 4.50\n",
            "Em média você gastará na ida R$ 202.5 e na volta 405.0\n"
          ]
        }
      ]
    },
    {
      "cell_type": "markdown",
      "source": [
        "# **Desenvolvendo Algoritmos - Exercício 8**\n"
      ],
      "metadata": {
        "id": "TSbVO7qUY1bA"
      }
    },
    {
      "cell_type": "code",
      "source": [
        "km = float(input(\"Digite o percurso pecorrido: \"))\n",
        "h = int(input(\"Digite o tempo gasto no percurso em horas: \"))\n",
        "min = int(input(\"Digite o dos minutos: \"))\n",
        "h2 = (h + (min / 60))\n",
        "total= (km / h2)\n",
        "print(\"A velocidade média foi de:\",total,\"Km/h\")"
      ],
      "metadata": {
        "colab": {
          "base_uri": "https://localhost:8080/"
        },
        "id": "gxmghnZ2Y3YQ",
        "outputId": "d7eaa55f-1f0d-41e0-8790-54c368e198bf"
      },
      "execution_count": 22,
      "outputs": [
        {
          "output_type": "stream",
          "name": "stdout",
          "text": [
            "Digite o percurso pecorrido: 150\n",
            "Digite o tempo gasto no percurso em horas: 1\n",
            "Digite o dos minutos: 13\n",
            "A velocidade média foi de: 123.2876712328767 Km/h\n"
          ]
        }
      ]
    },
    {
      "cell_type": "markdown",
      "source": [],
      "metadata": {
        "id": "0CdtDPCLN-GN"
      }
    }
  ]
}